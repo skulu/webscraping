{
 "cells": [
  {
   "cell_type": "code",
   "execution_count": 1,
   "metadata": {},
   "outputs": [],
   "source": [
    "import requests\n",
    "from bs4 import BeautifulSoup\n",
    "import pandas"
   ]
  },
  {
   "cell_type": "code",
   "execution_count": 2,
   "metadata": {},
   "outputs": [],
   "source": [
    "url = \"https://sg.finance.yahoo.com/quote/GOOG/history?p=GOOG\"\n",
    "# url = \"C:\\Users\\shiuh\\Downloads\\GOOG_yfinance.html\"\n",
    "r = requests.get(url, headers={'USER-AGENT': \"Mozilla/5.0\"}) # Must use header specifying user agent for YFinance\n",
    "r_html = r.text"
   ]
  },
  {
   "cell_type": "code",
   "execution_count": 3,
   "metadata": {},
   "outputs": [],
   "source": [
    "soup = BeautifulSoup(r_html, \"html.parser\")"
   ]
  },
  {
   "cell_type": "code",
   "execution_count": 4,
   "metadata": {},
   "outputs": [],
   "source": [
    "data = soup.find('tbody').find_all('tr')"
   ]
  },
  {
   "cell_type": "code",
   "execution_count": 5,
   "metadata": {},
   "outputs": [],
   "source": [
    "date, open, high, low, close, adjclose, volume = [],[],[],[],[],[],[]\n",
    "for row in data:\n",
    "    col = row.find_all('td')\n",
    "    date.append(col[0].text)\n",
    "    open.append(col[1].text)\n",
    "    high.append(col[2].text)\n",
    "    low.append(col[3].text)\n",
    "    close.append(col[4].text)\n",
    "    adjclose.append(col[5].text)\n",
    "    volume.append(col[6].text)"
   ]
  },
  {
   "cell_type": "code",
   "execution_count": 6,
   "metadata": {},
   "outputs": [],
   "source": [
    "df = pandas.DataFrame({\"Date\": date, \"Open\": open, \"High\": high, \"Low\": low, \"Close\": close, \"Adj. Close\": adjclose, \"Volume\": volume})"
   ]
  },
  {
   "cell_type": "code",
   "execution_count": 7,
   "metadata": {},
   "outputs": [
    {
     "data": {
      "text/html": [
       "<div>\n",
       "<style scoped>\n",
       "    .dataframe tbody tr th:only-of-type {\n",
       "        vertical-align: middle;\n",
       "    }\n",
       "\n",
       "    .dataframe tbody tr th {\n",
       "        vertical-align: top;\n",
       "    }\n",
       "\n",
       "    .dataframe thead th {\n",
       "        text-align: right;\n",
       "    }\n",
       "</style>\n",
       "<table border=\"1\" class=\"dataframe\">\n",
       "  <thead>\n",
       "    <tr style=\"text-align: right;\">\n",
       "      <th></th>\n",
       "      <th>Date</th>\n",
       "      <th>Open</th>\n",
       "      <th>High</th>\n",
       "      <th>Low</th>\n",
       "      <th>Close</th>\n",
       "      <th>Adj. Close</th>\n",
       "      <th>Volume</th>\n",
       "    </tr>\n",
       "  </thead>\n",
       "  <tbody>\n",
       "    <tr>\n",
       "      <th>0</th>\n",
       "      <td>23 May 2022</td>\n",
       "      <td>2,202.08</td>\n",
       "      <td>2,240.11</td>\n",
       "      <td>2,183.08</td>\n",
       "      <td>2,233.33</td>\n",
       "      <td>2,233.33</td>\n",
       "      <td>1,569,300</td>\n",
       "    </tr>\n",
       "    <tr>\n",
       "      <th>1</th>\n",
       "      <td>20 May 2022</td>\n",
       "      <td>2,241.71</td>\n",
       "      <td>2,251.00</td>\n",
       "      <td>2,127.46</td>\n",
       "      <td>2,186.26</td>\n",
       "      <td>2,186.26</td>\n",
       "      <td>1,878,100</td>\n",
       "    </tr>\n",
       "    <tr>\n",
       "      <th>2</th>\n",
       "      <td>19 May 2022</td>\n",
       "      <td>2,236.82</td>\n",
       "      <td>2,271.75</td>\n",
       "      <td>2,209.36</td>\n",
       "      <td>2,214.91</td>\n",
       "      <td>2,214.91</td>\n",
       "      <td>1,459,600</td>\n",
       "    </tr>\n",
       "    <tr>\n",
       "      <th>3</th>\n",
       "      <td>18 May 2022</td>\n",
       "      <td>2,304.75</td>\n",
       "      <td>2,313.91</td>\n",
       "      <td>2,242.84</td>\n",
       "      <td>2,248.02</td>\n",
       "      <td>2,248.02</td>\n",
       "      <td>1,399,100</td>\n",
       "    </tr>\n",
       "    <tr>\n",
       "      <th>4</th>\n",
       "      <td>17 May 2022</td>\n",
       "      <td>2,344.55</td>\n",
       "      <td>2,344.55</td>\n",
       "      <td>2,306.75</td>\n",
       "      <td>2,334.03</td>\n",
       "      <td>2,334.03</td>\n",
       "      <td>1,078,800</td>\n",
       "    </tr>\n",
       "  </tbody>\n",
       "</table>\n",
       "</div>"
      ],
      "text/plain": [
       "          Date      Open      High       Low     Close Adj. Close     Volume\n",
       "0  23 May 2022  2,202.08  2,240.11  2,183.08  2,233.33   2,233.33  1,569,300\n",
       "1  20 May 2022  2,241.71  2,251.00  2,127.46  2,186.26   2,186.26  1,878,100\n",
       "2  19 May 2022  2,236.82  2,271.75  2,209.36  2,214.91   2,214.91  1,459,600\n",
       "3  18 May 2022  2,304.75  2,313.91  2,242.84  2,248.02   2,248.02  1,399,100\n",
       "4  17 May 2022  2,344.55  2,344.55  2,306.75  2,334.03   2,334.03  1,078,800"
      ]
     },
     "execution_count": 7,
     "metadata": {},
     "output_type": "execute_result"
    }
   ],
   "source": [
    "df.head()"
   ]
  },
  {
   "cell_type": "code",
   "execution_count": null,
   "metadata": {},
   "outputs": [],
   "source": []
  }
 ],
 "metadata": {
  "interpreter": {
   "hash": "0a55b7b11a55703bf7a7549840e3adfc8d635b686f44c1b4cb0748b959c01833"
  },
  "kernelspec": {
   "display_name": "Python 3.10.4 ('default')",
   "language": "python",
   "name": "python3"
  },
  "language_info": {
   "codemirror_mode": {
    "name": "ipython",
    "version": 3
   },
   "file_extension": ".py",
   "mimetype": "text/x-python",
   "name": "python",
   "nbconvert_exporter": "python",
   "pygments_lexer": "ipython3",
   "version": "3.10.4"
  },
  "orig_nbformat": 4
 },
 "nbformat": 4,
 "nbformat_minor": 2
}
